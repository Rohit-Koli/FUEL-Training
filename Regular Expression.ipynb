{
 "cells": [
  {
   "cell_type": "code",
   "execution_count": 11,
   "id": "702552ee",
   "metadata": {},
   "outputs": [
    {
     "name": "stdout",
     "output_type": "stream",
     "text": [
      "['12/2/2003', '4/1/1045', '30/12/2023']\n",
      "['sachinkoli@gmail.com']\n"
     ]
    }
   ],
   "source": [
    "import re\n",
    "text='''mobile no.\n",
    "        8010785939\n",
    "        3948382923\n",
    "        4838293848\n",
    "        3939485843\n",
    "        email-id: sachinkoli@gmail.com\n",
    "        date: \n",
    "        12/2/2003\n",
    "        4/1/1045\n",
    "        30/12/2023\n",
    "'''\n",
    "email=re.findall('[a-z]{5,20}[@]{1}[a-z]{3,10}[.]{1}[a-z]{1,5}',text)\n",
    "\n",
    "date=re.findall('[0-9]{1,2}[/]{1}[0-9]{1,2}[/]{1}[0-9]{4}',text)\n",
    "\n",
    "print(date)\n",
    "print(email)"
   ]
  },
  {
   "cell_type": "code",
   "execution_count": 16,
   "id": "04460b44",
   "metadata": {},
   "outputs": [
    {
     "name": "stdout",
     "output_type": "stream",
     "text": [
      "['ASGKD8389S', 'FEKJF7236K', 'JFKEI2493L', 'KJFEI2394S']\n"
     ]
    }
   ],
   "source": [
    "import re\n",
    "pan='''\n",
    "    ASGKD8389SK\n",
    "    JFEKJF7236K\n",
    "    KJFKEI2493L\n",
    "    DKJFEI2394S\n",
    "'''\n",
    "P=re.findall('[A-Z]{5}[0-9]{4}[A-Z]{1}',pan)\n",
    "print(P)"
   ]
  },
  {
   "cell_type": "code",
   "execution_count": 25,
   "id": "68ea3626",
   "metadata": {},
   "outputs": [
    {
     "name": "stdout",
     "output_type": "stream",
     "text": [
      "ai and machine learning\n"
     ]
    }
   ],
   "source": [
    "#Sub\n",
    "\n",
    "string=\"python and machine learning \"\n",
    "t=re.sub(\"python\",\"ai\",string)\n",
    "print(t)"
   ]
  },
  {
   "cell_type": "code",
   "execution_count": null,
   "id": "f6b77451",
   "metadata": {},
   "outputs": [],
   "source": []
  }
 ],
 "metadata": {
  "kernelspec": {
   "display_name": "Python 3 (ipykernel)",
   "language": "python",
   "name": "python3"
  },
  "language_info": {
   "codemirror_mode": {
    "name": "ipython",
    "version": 3
   },
   "file_extension": ".py",
   "mimetype": "text/x-python",
   "name": "python",
   "nbconvert_exporter": "python",
   "pygments_lexer": "ipython3",
   "version": "3.11.5"
  }
 },
 "nbformat": 4,
 "nbformat_minor": 5
}
