{
 "cells": [
  {
   "cell_type": "code",
   "execution_count": 3,
   "id": "2ae144dd",
   "metadata": {},
   "outputs": [
    {
     "name": "stdout",
     "output_type": "stream",
     "text": [
      "Enter Number: 4\n",
      "Not\n"
     ]
    }
   ],
   "source": [
    "n=int(input(\"Enter Number: \"))\n",
    "count=0\n",
    "p=1\n",
    "while(p<=n):\n",
    "    if(n%p==0):\n",
    "        count+=1\n",
    "    p+=1\n",
    "if(count==2):\n",
    "    print(\"Prime\")\n",
    "else:\n",
    "    print(\"Not\")"
   ]
  },
  {
   "cell_type": "code",
   "execution_count": 16,
   "id": "e33dd572",
   "metadata": {},
   "outputs": [
    {
     "name": "stdout",
     "output_type": "stream",
     "text": [
      "   1 \n",
      "  1 1 \n",
      " 1 2 1 \n",
      "1 3 1 4 \n"
     ]
    }
   ],
   "source": [
    "temp=4-1\n",
    "t=1\n",
    "s=2\n",
    "n=4\n",
    "for i in range(n):\n",
    "    for j in range(temp):\n",
    "        print(\"\",end=\" \")\n",
    "    for k in range(i+1):\n",
    "        if(i==0 or i==1 or k==0 or k==n-1):\n",
    "            print(t,end=\" \")\n",
    "        else:\n",
    "            print(s,end=\" \")\n",
    "            s=s+1\n",
    "    temp-=1\n",
    "    print()"
   ]
  },
  {
   "cell_type": "code",
   "execution_count": null,
   "id": "0af91930",
   "metadata": {},
   "outputs": [],
   "source": [
    "''"
   ]
  }
 ],
 "metadata": {
  "kernelspec": {
   "display_name": "Python 3 (ipykernel)",
   "language": "python",
   "name": "python3"
  },
  "language_info": {
   "codemirror_mode": {
    "name": "ipython",
    "version": 3
   },
   "file_extension": ".py",
   "mimetype": "text/x-python",
   "name": "python",
   "nbconvert_exporter": "python",
   "pygments_lexer": "ipython3",
   "version": "3.11.5"
  }
 },
 "nbformat": 4,
 "nbformat_minor": 5
}
