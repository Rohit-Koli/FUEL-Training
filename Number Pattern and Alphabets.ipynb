{
 "cells": [
  {
   "cell_type": "code",
   "execution_count": 28,
   "id": "333f54db",
   "metadata": {},
   "outputs": [
    {
     "name": "stdout",
     "output_type": "stream",
     "text": [
      "Enter Number Of Rows: 10\n",
      "*                                   * \n",
      "* *                               * * \n",
      "* * *                           * * * \n",
      "* * * *                       * * * * \n",
      "* * * * *                   * * * * * \n",
      "* * * * * *               * * * * * * \n",
      "* * * * * * *           * * * * * * * \n",
      "* * * * * * * *       * * * * * * * * \n",
      "* * * * * * * * *   * * * * * * * * * \n",
      "* * * * * * * * * * * * * * * * * * * \n",
      "* * * * * * * * *   * * * * * * * * * \n",
      "* * * * * * * *       * * * * * * * * \n",
      "* * * * * * *           * * * * * * * \n",
      "* * * * * *               * * * * * * \n",
      "* * * * *                   * * * * * \n",
      "* * * *                       * * * * \n",
      "* * *                           * * * \n",
      "* *                               * * \n",
      "*                                   * \n"
     ]
    }
   ],
   "source": [
    "n=int(input(\"Enter Number Of Rows: \"))\n",
    "temp2=n-1\n",
    "for i in range(n-1):\n",
    "    for j in range(i+1):\n",
    "        print(\"*\",end=\" \")\n",
    "    for k in range(i,n-1):\n",
    "        print(\" \",end=\" \") \n",
    "# ***********************************\n",
    "    for j in range(0,temp2-1):\n",
    "        print(\" \",end=\" \")\n",
    "    for k in range(0,i+1):\n",
    "        print(\"*\",end=\" \")\n",
    "    temp2-=1\n",
    "    print()\n",
    "\n",
    "\n",
    "temp=n\n",
    "for i in range(n-1+n):\n",
    "    print(\"*\",end=\" \")\n",
    "print()\n",
    "\n",
    "temp2=n-1\n",
    "for i in range(n-1):\n",
    "    for j in range(0,temp-1):\n",
    "        print(\"*\",end=\" \")\n",
    "\n",
    "    for k in range(0,i+1):\n",
    "        print(\" \",end=\" \")\n",
    "    temp-=1\n",
    "# **********************************\n",
    "    for k in range(0,i):\n",
    "        print(\" \",end=\" \") \n",
    "    for j in range(0,temp2): \n",
    "        print(\"*\",end=\" \")\n",
    "    temp2-=1\n",
    "    print()"
   ]
  },
  {
   "cell_type": "code",
   "execution_count": 9,
   "id": "4ec28a41",
   "metadata": {},
   "outputs": [
    {
     "name": "stdout",
     "output_type": "stream",
     "text": [
      "\n",
      "1 \n",
      "2 2 \n",
      "3 3 3 \n",
      "4 4 4 4 \n",
      "5 5 5 5 5 \n"
     ]
    }
   ],
   "source": [
    "for i in range(5+1):\n",
    "    for j in range(i):\n",
    "        print(i,end=\" \")\n",
    "    print()\n",
    "    "
   ]
  },
  {
   "cell_type": "code",
   "execution_count": 13,
   "id": "e373cdb0",
   "metadata": {},
   "outputs": [
    {
     "name": "stdout",
     "output_type": "stream",
     "text": [
      "\n",
      "\n",
      "1 \n",
      "1 2 \n",
      "1 2 3 \n",
      "1 2 3 4 \n",
      "1 2 3 4 5 \n"
     ]
    }
   ],
   "source": [
    "for i in range(6+1):\n",
    "    for j in range(1,i):\n",
    "        print(j,end=\" \")\n",
    "    print()"
   ]
  },
  {
   "cell_type": "code",
   "execution_count": 20,
   "id": "cb58e2aa",
   "metadata": {},
   "outputs": [
    {
     "name": "stdout",
     "output_type": "stream",
     "text": [
      "\n",
      "1 \n",
      "2 3 \n",
      "4 5 6 \n",
      "7 8 9 10 \n",
      "11 12 13 14 15 \n"
     ]
    }
   ],
   "source": [
    "'''\n",
    "1\n",
    "2 3\n",
    "4 5 6\n",
    "7 8 9 10\n",
    "'''\n",
    "t=1\n",
    "for i in range(6):\n",
    "    for j in range(i):\n",
    "        print(t,end=\" \")\n",
    "        t+=1\n",
    "    print()"
   ]
  },
  {
   "cell_type": "code",
   "execution_count": 15,
   "id": "46db48c4",
   "metadata": {},
   "outputs": [
    {
     "name": "stdout",
     "output_type": "stream",
     "text": [
      "\n",
      "5 \n",
      "5 4 \n",
      "5 4 3 \n",
      "5 4 3 2 \n",
      "5 4 3 2 1 \n"
     ]
    }
   ],
   "source": [
    "'''\n",
    "5\n",
    "5 4\n",
    "5 4 3\n",
    "5 4 3 2\n",
    "5 4 3 2 1\n",
    "'''\n",
    "for i in range(6):\n",
    "    t=5\n",
    "    for j in range(i):\n",
    "        print(t,end=\" \")\n",
    "        t-=1\n",
    "    print()"
   ]
  },
  {
   "cell_type": "code",
   "execution_count": 19,
   "id": "bdd8c744",
   "metadata": {},
   "outputs": [
    {
     "name": "stdout",
     "output_type": "stream",
     "text": [
      "1 2 3 4 5 \n",
      "  1 2 3 4 \n",
      "    1 2 3 \n",
      "      1 2 \n",
      "        1 \n"
     ]
    }
   ],
   "source": [
    "n=5\n",
    "temp=n\n",
    "for i in range(0,n):\n",
    "    r=1\n",
    "    for k in range(i): \n",
    "        print(\" \",end=\" \")\n",
    "    for j in range(temp):\n",
    "        print(r,end=\" \")\n",
    "        r+=1\n",
    "    temp-=1\n",
    "    print()"
   ]
  },
  {
   "cell_type": "code",
   "execution_count": 21,
   "id": "19fc3d13",
   "metadata": {},
   "outputs": [
    {
     "name": "stdout",
     "output_type": "stream",
     "text": [
      "\n",
      "1 \n",
      "2 3 \n",
      "4 5 6 \n",
      "7 8 9 10 \n",
      "11 12 13 14 15 \n"
     ]
    }
   ],
   "source": [
    "'''\n",
    "1\n",
    "2 3\n",
    "4 5 6\n",
    "7 8 9 10\n",
    "\n",
    "'''\n",
    "a=1\n",
    "for i in range(6):\n",
    "    for j in range(i):\n",
    "        print(a,end=\" \")\n",
    "        a+=1\n",
    "    print() \n",
    "    "
   ]
  },
  {
   "cell_type": "code",
   "execution_count": 26,
   "id": "b3a3ebab",
   "metadata": {},
   "outputs": [
    {
     "name": "stdout",
     "output_type": "stream",
     "text": [
      "Enter a Number: 11\n",
      "0 1 1 2 3 5 8 13 21 34 55 "
     ]
    }
   ],
   "source": [
    "a=0\n",
    "b=1\n",
    "n=int(input(\"Enter a Number: \"))\n",
    "t=1\n",
    "while(n>t): #10>1\n",
    "    print(a,end=\" \") #0 \n",
    "    c=a+b #1\n",
    "    a=b #a=1\n",
    "    b=c #b=1\n",
    "    t+=1 #t=2\n"
   ]
  },
  {
   "cell_type": "code",
   "execution_count": 27,
   "id": "7fdeaaa2",
   "metadata": {},
   "outputs": [
    {
     "name": "stdout",
     "output_type": "stream",
     "text": [
      "0 1 1 2 3 5 8 13 21 34 "
     ]
    }
   ],
   "source": [
    "a=0\n",
    "b=1\n",
    "n=10\n",
    "for i in range(n):\n",
    "    print(a,end=\" \")\n",
    "    c=a+b\n",
    "    a=b\n",
    "    b=c"
   ]
  },
  {
   "cell_type": "code",
   "execution_count": null,
   "id": "4c4543d6",
   "metadata": {},
   "outputs": [],
   "source": []
  }
 ],
 "metadata": {
  "kernelspec": {
   "display_name": "Python 3 (ipykernel)",
   "language": "python",
   "name": "python3"
  },
  "language_info": {
   "codemirror_mode": {
    "name": "ipython",
    "version": 3
   },
   "file_extension": ".py",
   "mimetype": "text/x-python",
   "name": "python",
   "nbconvert_exporter": "python",
   "pygments_lexer": "ipython3",
   "version": "3.11.5"
  }
 },
 "nbformat": 4,
 "nbformat_minor": 5
}
