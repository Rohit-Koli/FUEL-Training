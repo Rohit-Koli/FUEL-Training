{
 "cells": [
  {
   "cell_type": "code",
   "execution_count": 2,
   "id": "bd81b014",
   "metadata": {},
   "outputs": [
    {
     "name": "stdout",
     "output_type": "stream",
     "text": [
      "[1, 2, 3, 3, 0, 0, 0]\n"
     ]
    }
   ],
   "source": [
    "li=[0,1,2,3,0,3,0]\n",
    "zero=[]\n",
    "digit=[]\n",
    "for i in li:\n",
    "    if i!=0:\n",
    "        digit.append(i)\n",
    "    else:\n",
    "        zero.append(i)\n",
    "result=digit+zero\n",
    "print(result)"
   ]
  },
  {
   "cell_type": "code",
   "execution_count": 5,
   "id": "5de41993",
   "metadata": {},
   "outputs": [
    {
     "name": "stdout",
     "output_type": "stream",
     "text": [
      "7 10 3\n"
     ]
    }
   ],
   "source": [
    "string1=\"PYTHON is a Language\"\n",
    "upper=0\n",
    "lower=0\n",
    "space=0\n",
    "for i in string1:\n",
    "    if i.islower():\n",
    "        lower+=1\n",
    "    elif i.isupper():\n",
    "        upper+=1\n",
    "    else:\n",
    "        space+=1\n",
    "print(upper,lower,space)"
   ]
  },
  {
   "cell_type": "code",
   "execution_count": 6,
   "id": "8f4ace57",
   "metadata": {},
   "outputs": [
    {
     "name": "stdout",
     "output_type": "stream",
     "text": [
      "9 7 2\n"
     ]
    }
   ],
   "source": [
    "string2=\"PYTHON and Machine\"\n",
    "lower=0\n",
    "upper=0\n",
    "space=0\n",
    "for i in string2:\n",
    "    if i>='A' and i<='Z':\n",
    "        upper+=1\n",
    "    elif i>='a' and i<='z':\n",
    "        lower+=1;\n",
    "    else:\n",
    "        space+=1\n",
    "print(lower,upper,space)"
   ]
  },
  {
   "cell_type": "code",
   "execution_count": 7,
   "id": "6fd16fdc",
   "metadata": {},
   "outputs": [
    {
     "name": "stdout",
     "output_type": "stream",
     "text": [
      "[1, 2, 3, 90] [3.4, 30.4] ['hello', 'hi']\n"
     ]
    }
   ],
   "source": [
    "#Check Data type and append another list\n",
    "li=[1,2,3,3.4,\"hello\",90,\"hi\",30.4]\n",
    "ip=[]\n",
    "f=[]\n",
    "s=[]\n",
    "for i in li:\n",
    "    if(type(i)==int):\n",
    "        ip.append(i)\n",
    "    elif(type(i)==float):\n",
    "        f.append(i)\n",
    "    elif(type(i)==str):\n",
    "        s.append(i)\n",
    "print(ip,f,s)"
   ]
  },
  {
   "cell_type": "code",
   "execution_count": 11,
   "id": "74953c75",
   "metadata": {},
   "outputs": [
    {
     "name": "stdout",
     "output_type": "stream",
     "text": [
      "0 12\n"
     ]
    }
   ],
   "source": [
    "#Check Number of Vowels and Consonents in String\n",
    "string5=\"this is string\"\n",
    "v=0\n",
    "c=0\n",
    "vowels=\"aeiou\"\n",
    "for i in string5:\n",
    "    if(i in vowels):\n",
    "        v+=1\n",
    "    elif(i==\" \"):\n",
    "        continue\n",
    "    else:\n",
    "        c+=1\n",
    "print(v,c)\n",
    "        "
   ]
  },
  {
   "cell_type": "code",
   "execution_count": 15,
   "id": "3d6917e7",
   "metadata": {},
   "outputs": [
    {
     "name": "stdout",
     "output_type": "stream",
     "text": [
      "1 6\n"
     ]
    }
   ],
   "source": [
    "string5=\"this is string\"\n",
    "v=0\n",
    "c=0\n",
    "temp=[]\n",
    "temp2=[]\n",
    "vowels=\"aeiou\"\n",
    "for i in string5:\n",
    "    if(i in vowels and i not in temp):\n",
    "        temp.append(i)\n",
    "        v+=1\n",
    "    elif(i==\" \"):\n",
    "        continue\n",
    "    else:\n",
    "        if(i not in temp and i not in temp2):\n",
    "            temp2.append(i)\n",
    "            c+=1\n",
    "        else:\n",
    "            continue\n",
    "print(v,c)"
   ]
  },
  {
   "cell_type": "code",
   "execution_count": 23,
   "id": "e483927b",
   "metadata": {},
   "outputs": [
    {
     "name": "stdout",
     "output_type": "stream",
     "text": [
      "[3, 4]\n"
     ]
    }
   ],
   "source": [
    "list1=[3,2,3,3,6,4,2]\n",
    "list2=[3,5,4,3,3,3]\n",
    "common=[]\n",
    "for i in list1:\n",
    "    if i in list2 and i not in common:\n",
    "        common.append(i)\n",
    "print(common)"
   ]
  },
  {
   "cell_type": "code",
   "execution_count": 18,
   "id": "b508f7b8",
   "metadata": {},
   "outputs": [
    {
     "name": "stdout",
     "output_type": "stream",
     "text": [
      "2 1 %\n"
     ]
    }
   ],
   "source": [
    "#Love Calculator\n",
    "'''\n",
    "INPUT--> Sachin koli\n",
    "         Aachal koli\n",
    "\n",
    "T=1   L=1\n",
    "R=1   O=1\n",
    "U=1   V=0\n",
    "E=1   E=1\n",
    "'''\n",
    "name1=\"Ankit Rao\"\n",
    "name2=\"Nish Jain\"\n",
    "com=name1+name2\n",
    "true=\"true\"\n",
    "love=\"love\"\n",
    "com=com.lower()\n",
    "t=0\n",
    "l=0\n",
    "true_temp=[]\n",
    "love_temp=[]\n",
    "for i in com:\n",
    "    if i in true and i not in true_temp:\n",
    "        true_temp.append(i)\n",
    "        t+=1\n",
    "    if i in love and i not in love_temp:\n",
    "        love_temp.append(i)\n",
    "        l+=1\n",
    "print(t,l,\"%\")"
   ]
  },
  {
   "cell_type": "code",
   "execution_count": 19,
   "id": "d6713849",
   "metadata": {},
   "outputs": [
    {
     "name": "stdout",
     "output_type": "stream",
     "text": [
      "21 %\n"
     ]
    }
   ],
   "source": [
    "#Love Calculator Jenny Mam\n",
    "name1=\"Ankit Rao\"\n",
    "name2=\"Nisha Jain\"\n",
    "com=name1+name2\n",
    "com=com.lower()\n",
    "t=com.count('t')\n",
    "r=com.count('r')\n",
    "e=com.count('e')\n",
    "u=com.count('u')\n",
    "true=t+r+e+u\n",
    "\n",
    "l=com.count('l')\n",
    "o=com.count('o')\n",
    "v=com.count('v')\n",
    "e=com.count('e')\n",
    "love=l+o+v+e\n",
    "\n",
    "result=str(true)+str(love)\n",
    "print(result,\"%\")"
   ]
  },
  {
   "cell_type": "code",
   "execution_count": null,
   "id": "6e388ff3",
   "metadata": {},
   "outputs": [],
   "source": []
  }
 ],
 "metadata": {
  "kernelspec": {
   "display_name": "Python 3 (ipykernel)",
   "language": "python",
   "name": "python3"
  },
  "language_info": {
   "codemirror_mode": {
    "name": "ipython",
    "version": 3
   },
   "file_extension": ".py",
   "mimetype": "text/x-python",
   "name": "python",
   "nbconvert_exporter": "python",
   "pygments_lexer": "ipython3",
   "version": "3.11.5"
  }
 },
 "nbformat": 4,
 "nbformat_minor": 5
}
