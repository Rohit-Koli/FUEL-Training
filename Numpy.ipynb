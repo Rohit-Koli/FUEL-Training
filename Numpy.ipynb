{
 "cells": [
  {
   "cell_type": "code",
   "execution_count": 1,
   "id": "0ac702a0",
   "metadata": {},
   "outputs": [],
   "source": [
    "import numpy as np"
   ]
  },
  {
   "cell_type": "code",
   "execution_count": 18,
   "id": "b963d2c0",
   "metadata": {},
   "outputs": [
    {
     "name": "stdout",
     "output_type": "stream",
     "text": [
      "[50  2 12 43 50]\n",
      "[ 1.   2.   3.   4.  45.9]\n",
      "['90.3' '54.2' '89']\n"
     ]
    }
   ],
   "source": [
    "f=np.array([1,2,3,4,45.9])\n",
    "s=np.array([90.3,54.2,89],dtype=str)\n",
    "k=np.array([\"50\",\"2\",12,43,50.5],dtype=int)\n",
    "print(k)\n",
    "print(f)\n",
    "print(s)"
   ]
  },
  {
   "cell_type": "code",
   "execution_count": 22,
   "id": "0622d5cc",
   "metadata": {},
   "outputs": [
    {
     "name": "stdout",
     "output_type": "stream",
     "text": [
      "0\n",
      "90\n"
     ]
    }
   ],
   "source": [
    "#Zero Dimenshion Array\n",
    "a=np.array(90)\n",
    "print(a.ndim)\n",
    "print(a)"
   ]
  },
  {
   "cell_type": "code",
   "execution_count": 25,
   "id": "0c8bb0a3",
   "metadata": {},
   "outputs": [
    {
     "name": "stdout",
     "output_type": "stream",
     "text": [
      "1\n",
      "[1 2 3 3]\n"
     ]
    }
   ],
   "source": [
    "#1-d Array\n",
    "b=np.array([1,2,3,3])\n",
    "print(b.ndim)\n",
    "print(b)"
   ]
  },
  {
   "cell_type": "code",
   "execution_count": 31,
   "id": "43d94018",
   "metadata": {},
   "outputs": [
    {
     "name": "stdout",
     "output_type": "stream",
     "text": [
      "2\n",
      "[[1 2 3]\n",
      " [4 5 6]\n",
      " [7 8 9]]\n"
     ]
    }
   ],
   "source": [
    "#2-d Array\n",
    "c=np.array([(1,2,3),(4,5,6),(7,8,9)])\n",
    "print(c.ndim)\n",
    "print(c)"
   ]
  },
  {
   "cell_type": "code",
   "execution_count": 39,
   "id": "13606db2",
   "metadata": {},
   "outputs": [
    {
     "name": "stdout",
     "output_type": "stream",
     "text": [
      "3\n",
      "3\n"
     ]
    }
   ],
   "source": [
    "#3-d Array\n",
    "d=np.array([[\n",
    "    [1,2],[3,4]],\n",
    "    [[5,6],[7,8]\n",
    "]])\n",
    "print(d.ndim)\n",
    "th=np.array([[\n",
    "    [1,2,3],[4,5,6]],\n",
    "    [[7,8,9],[10,11,12]\n",
    "]])\n",
    "print(th.ndim)"
   ]
  },
  {
   "cell_type": "code",
   "execution_count": 45,
   "id": "5bc51c14",
   "metadata": {},
   "outputs": [
    {
     "name": "stdout",
     "output_type": "stream",
     "text": [
      "4\n",
      "[1 3 5]\n"
     ]
    }
   ],
   "source": [
    "#acces element\n",
    "i=np.array([1,2,3,4,5])\n",
    "print(i[-2])\n",
    "print(i[0:len(i):2])"
   ]
  },
  {
   "cell_type": "code",
   "execution_count": 92,
   "id": "7530cd39",
   "metadata": {},
   "outputs": [
    {
     "name": "stdout",
     "output_type": "stream",
     "text": [
      "[[1 2]\n",
      " [5 6]]\n",
      "11\n"
     ]
    }
   ],
   "source": [
    "j=np.array([[1,2,3,4],\n",
    "            [5,6,7,8],\n",
    "            [9,10,11,12]])\n",
    "'''print(j[0])\n",
    "print(j[0,2])\n",
    "print(j[2,-1])\n",
    "print(j[1,])\n",
    "print(j[1,1:4])'''\n",
    "print(j[0:2,0:2])\n",
    "print(j[2,2])\n",
    "print(j[0:])"
   ]
  },
  {
   "cell_type": "code",
   "execution_count": 1,
   "id": "2040c775",
   "metadata": {},
   "outputs": [
    {
     "name": "stdout",
     "output_type": "stream",
     "text": [
      "         * \n",
      "        * * \n",
      "       *   * \n",
      "      *     * \n",
      "     *       * \n",
      "    *         * \n",
      "   *           * \n",
      "  *             * \n",
      " *               * \n",
      "* * * * * * * * * * \n"
     ]
    }
   ],
   "source": [
    "'''\n",
    "----*\n",
    "---**\n",
    "--*** \n",
    "-****\n",
    "*****\n",
    "'''\n",
    "n=10\n",
    "for i in range(n):\n",
    "    for j in range(1,n-i):\n",
    "        print(\" \",end=\"\")\n",
    "    for k in range(i+1):\n",
    "        if k==0 or k==i:\n",
    "            print(\"* \",end=\"\")\n",
    "        elif i==n-1:\n",
    "            print(\"* \",end=\"\")\n",
    "        else:\n",
    "            print(\"  \",end=\"\")\n",
    "    print()"
   ]
  },
  {
   "cell_type": "code",
   "execution_count": 7,
   "id": "f377ba79",
   "metadata": {},
   "outputs": [
    {
     "name": "stdout",
     "output_type": "stream",
     "text": [
      "1 2 3 \n",
      "4 5 6 \n",
      "7 8 9 \n",
      "10 11 12 \n"
     ]
    }
   ],
   "source": [
    "import numpy as np\n",
    "td=np.array([[\n",
    "    [1,2,3],[4,5,6]],\n",
    "    [[7,8,9],[10,11,12]\n",
    "]])\n",
    "# print(td.ndim)\n",
    "# print(td)\n",
    "# print(td[1,0:,1:])\n",
    "# print(td[0,0:,2:])\n",
    "# print(td.shape)\n",
    "for i in td:\n",
    "    for j in i:\n",
    "        for k in j:\n",
    "            print(k,end=\" \")\n",
    "        print() "
   ]
  },
  {
   "cell_type": "code",
   "execution_count": 8,
   "id": "9f1e12e7",
   "metadata": {},
   "outputs": [
    {
     "name": "stdout",
     "output_type": "stream",
     "text": [
      "1 2 3 4 5 6 7 8 9 10 11 12 "
     ]
    }
   ],
   "source": [
    "for i in np.nditer(td):\n",
    "    print(i,end=\" \")"
   ]
  },
  {
   "cell_type": "code",
   "execution_count": 9,
   "id": "42ce85ed",
   "metadata": {},
   "outputs": [
    {
     "name": "stdout",
     "output_type": "stream",
     "text": [
      "0 p\n",
      "1 y\n",
      "2 t\n",
      "3 h\n",
      "4 o\n",
      "5 n\n"
     ]
    }
   ],
   "source": [
    "string=\"python\"\n"
   ]
  },
  {
   "cell_type": "code",
   "execution_count": 20,
   "id": "8f8a4a2d",
   "metadata": {},
   "outputs": [
    {
     "name": "stdout",
     "output_type": "stream",
     "text": [
      "[[1 2 3]\n",
      " [4 5 6]\n",
      " [7 8 9]]\n",
      "[  1 300   3   4   5   6   7   8   9]\n"
     ]
    }
   ],
   "source": [
    "#Convert 2d array into 1d array Using Flatten Function\n",
    "import numpy as np\n",
    "a=np.array([[1,2,3],[4,5,6],[7,8,9]])\n",
    "new=a.flatten()\n",
    "new[1]=300\n",
    "print(a)\n",
    "# print(a.ndim)\n",
    "# print(new.ndim)\n",
    "print(new)\n",
    "\n",
    "b=np.array([[[1,2,3],\n",
    "             [4,5,6]],\n",
    "            [[7,8,9],[10,11,12]\n",
    "    \n",
    "]])\n",
    "# print(b.ndim)\n",
    "# print(b)\n",
    "# new2=b.flatten()\n",
    "# print(new2)"
   ]
  },
  {
   "cell_type": "markdown",
   "id": "40243b0c",
   "metadata": {},
   "source": [
    "#Convert 2d array into 1d array Using ravel Function"
   ]
  },
  {
   "cell_type": "code",
   "execution_count": 18,
   "id": "b33cfd92",
   "metadata": {},
   "outputs": [
    {
     "name": "stdout",
     "output_type": "stream",
     "text": [
      "[[  1 500   3]\n",
      " [  4   5   6]\n",
      " [  7   8   9]]\n",
      "[  1 500   3   4   5   6   7   8   9]\n"
     ]
    }
   ],
   "source": [
    "c=np.array([[1,2,3],[4,5,6],[7,8,9]])\n",
    "d=c.ravel()\n",
    "d[1]=500\n",
    "print(c)\n",
    "print(d)\n",
    "\n",
    "#if we make array using ravel fuction and change new array then previous array will be affected"
   ]
  },
  {
   "cell_type": "code",
   "execution_count": 24,
   "id": "79ca718b",
   "metadata": {},
   "outputs": [
    {
     "name": "stdout",
     "output_type": "stream",
     "text": [
      "[0. 0. 0. 0. 0.]\n",
      "[[0 0]\n",
      " [0 0]\n",
      " [0 0]]\n"
     ]
    }
   ],
   "source": [
    "#zeros\n",
    "# zeroarray=np.zeros((5),dtype=int)\n",
    "zeroarray=np.zeros(5)\n",
    "print(zeroarray)\n",
    "\n",
    "multi=np.zeros((3,2),dtype=int)\n",
    "print(multi)"
   ]
  },
  {
   "cell_type": "code",
   "execution_count": 28,
   "id": "7f8bbd48",
   "metadata": {},
   "outputs": [
    {
     "name": "stdout",
     "output_type": "stream",
     "text": [
      "[1. 1. 1. 1. 1.]\n",
      "[['1' '1' '1']\n",
      " ['1' '1' '1']\n",
      " ['1' '1' '1']\n",
      " ['1' '1' '1']]\n"
     ]
    }
   ],
   "source": [
    "#One\n",
    "# np.ones((shape),dtype=float)\n",
    "o=np.ones(5)\n",
    "data=np.ones((4,3),dtype=str)\n",
    "print(o)\n",
    "print(data)"
   ]
  },
  {
   "cell_type": "code",
   "execution_count": 34,
   "id": "daa9c0bb",
   "metadata": {},
   "outputs": [
    {
     "name": "stdout",
     "output_type": "stream",
     "text": [
      "[[5 5 5 5 5 5 5 5 5 5]\n",
      " [5 5 5 5 5 5 5 5 5 5]\n",
      " [5 5 5 5 5 5 5 5 5 5]\n",
      " [5 5 5 5 5 5 5 5 5 5]]\n"
     ]
    }
   ],
   "source": [
    "#create array specific number using full() function\n",
    "# arr_name=np.full(shape,value)\n",
    "five=np.full((4,10),5)\n",
    "print(five)"
   ]
  },
  {
   "cell_type": "code",
   "execution_count": 41,
   "id": "dd385a19",
   "metadata": {},
   "outputs": [
    {
     "name": "stdout",
     "output_type": "stream",
     "text": [
      "[1 2 3 4]\n"
     ]
    },
    {
     "data": {
      "text/plain": [
       "array([1, 4, 7])"
      ]
     },
     "execution_count": 41,
     "metadata": {},
     "output_type": "execute_result"
    }
   ],
   "source": [
    "#arange()\n",
    "sk=np.arange(1,5)\n",
    "print(sk)\n",
    "# list(range(1,5))\n",
    "sp=np.arange(1,10,3)\n",
    "sp"
   ]
  },
  {
   "cell_type": "code",
   "execution_count": 57,
   "id": "f16a64c7",
   "metadata": {},
   "outputs": [
    {
     "name": "stdout",
     "output_type": "stream",
     "text": [
      "[[1 0]\n",
      " [0 1]\n",
      " [0 0]\n",
      " [0 0]\n",
      " [0 0]]\n"
     ]
    }
   ],
   "source": [
    "#eye\n",
    "#it returns diagonal matrix here we give shape\n",
    "e=np.eye(5,2,dtype=int)\n",
    "print(e)"
   ]
  },
  {
   "cell_type": "code",
   "execution_count": 56,
   "id": "6a8d4c9f",
   "metadata": {},
   "outputs": [
    {
     "name": "stdout",
     "output_type": "stream",
     "text": [
      "[[1 0 0]\n",
      " [0 1 0]\n",
      " [0 0 1]]\n"
     ]
    }
   ],
   "source": [
    "#identity\n",
    "#it returns diagonal matrix here we can't give shape\n",
    "j=np.identity(3,dtype=int)\n",
    "print(j)"
   ]
  },
  {
   "cell_type": "code",
   "execution_count": 73,
   "id": "a8ae0766",
   "metadata": {},
   "outputs": [
    {
     "name": "stdout",
     "output_type": "stream",
     "text": [
      "1 0.18208584929736815\n",
      "2 0.23359236789568572\n",
      "3 0.31970327389692177\n",
      "4 0.6929575652726131\n",
      "5 0.46042015932167624\n",
      "6 0.8500502475829016\n",
      "7 0.5133670796355013\n",
      "8 0.8574839870616425\n",
      "9 0.988332490798894\n",
      "10 0.20558600922869863\n"
     ]
    }
   ],
   "source": [
    "#random function\n",
    "#it return value in 0 to 1\n",
    "r=np.random.rand(10)\n",
    "s=np.random.rand(3,2)\n",
    "# print(r)\n",
    "for i in range(0,len(r)):\n",
    "    print(i+1,r[i])"
   ]
  },
  {
   "cell_type": "code",
   "execution_count": 80,
   "id": "672ae7a8",
   "metadata": {},
   "outputs": [
    {
     "name": "stdout",
     "output_type": "stream",
     "text": [
      "[6 9 9 1 3 4 1 1 1 3]\n"
     ]
    }
   ],
   "source": [
    "h=np.random.randint(1,10,10)\n",
    "print(h)\n",
    "p=np.random.randint(0,10,size=(5,5))\n",
    "# print(p)"
   ]
  },
  {
   "cell_type": "code",
   "execution_count": 10,
   "id": "1a111ab9",
   "metadata": {},
   "outputs": [
    {
     "data": {
      "text/html": [
       "<div>\n",
       "<style scoped>\n",
       "    .dataframe tbody tr th:only-of-type {\n",
       "        vertical-align: middle;\n",
       "    }\n",
       "\n",
       "    .dataframe tbody tr th {\n",
       "        vertical-align: top;\n",
       "    }\n",
       "\n",
       "    .dataframe thead th {\n",
       "        text-align: right;\n",
       "    }\n",
       "</style>\n",
       "<table border=\"1\" class=\"dataframe\">\n",
       "  <thead>\n",
       "    <tr style=\"text-align: right;\">\n",
       "      <th></th>\n",
       "      <th>zeros</th>\n",
       "      <th>ones</th>\n",
       "      <th>full</th>\n",
       "      <th>random</th>\n",
       "      <th>arange</th>\n",
       "    </tr>\n",
       "  </thead>\n",
       "  <tbody>\n",
       "    <tr>\n",
       "      <th>0</th>\n",
       "      <td>0</td>\n",
       "      <td>1</td>\n",
       "      <td>4</td>\n",
       "      <td>0.241944</td>\n",
       "      <td>1</td>\n",
       "    </tr>\n",
       "    <tr>\n",
       "      <th>1</th>\n",
       "      <td>0</td>\n",
       "      <td>1</td>\n",
       "      <td>4</td>\n",
       "      <td>0.071196</td>\n",
       "      <td>2</td>\n",
       "    </tr>\n",
       "    <tr>\n",
       "      <th>2</th>\n",
       "      <td>0</td>\n",
       "      <td>1</td>\n",
       "      <td>4</td>\n",
       "      <td>0.230853</td>\n",
       "      <td>3</td>\n",
       "    </tr>\n",
       "    <tr>\n",
       "      <th>3</th>\n",
       "      <td>0</td>\n",
       "      <td>1</td>\n",
       "      <td>4</td>\n",
       "      <td>0.237944</td>\n",
       "      <td>4</td>\n",
       "    </tr>\n",
       "    <tr>\n",
       "      <th>4</th>\n",
       "      <td>0</td>\n",
       "      <td>1</td>\n",
       "      <td>4</td>\n",
       "      <td>0.084399</td>\n",
       "      <td>5</td>\n",
       "    </tr>\n",
       "    <tr>\n",
       "      <th>5</th>\n",
       "      <td>0</td>\n",
       "      <td>1</td>\n",
       "      <td>4</td>\n",
       "      <td>0.867441</td>\n",
       "      <td>6</td>\n",
       "    </tr>\n",
       "    <tr>\n",
       "      <th>6</th>\n",
       "      <td>0</td>\n",
       "      <td>1</td>\n",
       "      <td>4</td>\n",
       "      <td>0.606749</td>\n",
       "      <td>7</td>\n",
       "    </tr>\n",
       "    <tr>\n",
       "      <th>7</th>\n",
       "      <td>0</td>\n",
       "      <td>1</td>\n",
       "      <td>4</td>\n",
       "      <td>0.926442</td>\n",
       "      <td>8</td>\n",
       "    </tr>\n",
       "    <tr>\n",
       "      <th>8</th>\n",
       "      <td>0</td>\n",
       "      <td>1</td>\n",
       "      <td>4</td>\n",
       "      <td>0.289308</td>\n",
       "      <td>9</td>\n",
       "    </tr>\n",
       "    <tr>\n",
       "      <th>9</th>\n",
       "      <td>0</td>\n",
       "      <td>1</td>\n",
       "      <td>4</td>\n",
       "      <td>0.883314</td>\n",
       "      <td>10</td>\n",
       "    </tr>\n",
       "  </tbody>\n",
       "</table>\n",
       "</div>"
      ],
      "text/plain": [
       "   zeros  ones  full    random  arange\n",
       "0      0     1     4  0.241944       1\n",
       "1      0     1     4  0.071196       2\n",
       "2      0     1     4  0.230853       3\n",
       "3      0     1     4  0.237944       4\n",
       "4      0     1     4  0.084399       5\n",
       "5      0     1     4  0.867441       6\n",
       "6      0     1     4  0.606749       7\n",
       "7      0     1     4  0.926442       8\n",
       "8      0     1     4  0.289308       9\n",
       "9      0     1     4  0.883314      10"
      ]
     },
     "execution_count": 10,
     "metadata": {},
     "output_type": "execute_result"
    }
   ],
   "source": [
    "#Create Dictionary\n",
    "import numpy as np\n",
    "import pandas as pd\n",
    "dt={\n",
    "    'zeros':np.zeros(10,dtype=int),\n",
    "    'ones':np.ones((10),dtype=int),\n",
    "    'full':np.full(10,4),\n",
    "    'random':np.random.rand(10),\n",
    "    'arange':np.arange(1,11),\n",
    "    \n",
    "}\n",
    "df=pd.DataFrame(dt)\n",
    "df"
   ]
  },
  {
   "cell_type": "code",
   "execution_count": null,
   "id": "0f415a1f",
   "metadata": {},
   "outputs": [],
   "source": []
  }
 ],
 "metadata": {
  "kernelspec": {
   "display_name": "Python 3 (ipykernel)",
   "language": "python",
   "name": "python3"
  },
  "language_info": {
   "codemirror_mode": {
    "name": "ipython",
    "version": 3
   },
   "file_extension": ".py",
   "mimetype": "text/x-python",
   "name": "python",
   "nbconvert_exporter": "python",
   "pygments_lexer": "ipython3",
   "version": "3.11.5"
  }
 },
 "nbformat": 4,
 "nbformat_minor": 5
}
