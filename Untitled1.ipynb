{
 "cells": [
  {
   "cell_type": "code",
   "execution_count": 2,
   "id": "0dbb0f11",
   "metadata": {},
   "outputs": [
    {
     "name": "stdout",
     "output_type": "stream",
     "text": [
      "1 2 3 4 \n",
      "2 2 3 4 \n",
      "3 3 3 4 \n",
      "4 4 4 4 \n"
     ]
    }
   ],
   "source": [
    "n=4\n",
    "temp=1\n",
    "for i in range(1,n+1):\n",
    "    for j in range(1,n+1):\n",
    "        if i>j:\n",
    "            print(i,end=\" \")\n",
    "        else:\n",
    "            print(j,end=\" \")\n",
    "    print()"
   ]
  },
  {
   "cell_type": "code",
   "execution_count": 10,
   "id": "98e5a052",
   "metadata": {},
   "outputs": [
    {
     "name": "stdout",
     "output_type": "stream",
     "text": [
      "1 \n",
      "1 2 \n",
      "1 2 4 \n",
      "1 2 4 8 \n",
      "1 2 4 8 16 \n"
     ]
    }
   ],
   "source": [
    "'''\n",
    "1               ->i=1 1+0=1  \n",
    "2 1             ->i=2 1+1=2 \n",
    "4 2 1           ->i=3 2+2=4 \n",
    "8 4 2 1         ->i=4 4+4=8\n",
    "16 8 4 2 1      ->i=5 8+8=16\n",
    "'''\n",
    "# t=1\n",
    "# n=5\n",
    "# for i in range(n):\n",
    "#     k=t #k=2\n",
    "#     for j in range(i+1):\n",
    "#         print(k,end=\" \") #2\n",
    "#         k=k//2\n",
    "#     t=t*2 \n",
    "#     print()\n",
    "'''\n",
    "1        ->\n",
    "1 2      ->\n",
    "1 2 4    -> 1*1 1*2=2 \n",
    "1 2 4 8  ->\n",
    "'''\n",
    "temp=1\n",
    "n=5\n",
    "for i in range(n):\n",
    "    temp=1\n",
    "    for j in range(i+1):\n",
    "        print(temp,end=\" \")\n",
    "        temp=temp*2\n",
    "    print()\n",
    "        "
   ]
  },
  {
   "cell_type": "code",
   "execution_count": 8,
   "id": "f12ce5b2",
   "metadata": {},
   "outputs": [
    {
     "name": "stdout",
     "output_type": "stream",
     "text": [
      "4\n",
      "No Error Ocurred!\n",
      "Program End\n"
     ]
    }
   ],
   "source": [
    "try:\n",
    "    a=[1,2,3,4]\n",
    "    print(a[3])\n",
    "except:\n",
    "    print(\"Index Out Of Range!!!!\")\n",
    "else:\n",
    "    print(\"No Error Ocurred!\")\n",
    "finally:\n",
    "    print(\"Program End\")"
   ]
  },
  {
   "cell_type": "code",
   "execution_count": 14,
   "id": "38e644df",
   "metadata": {},
   "outputs": [
    {
     "name": "stdout",
     "output_type": "stream",
     "text": [
      "\n",
      "0 \n",
      "0 1 \n",
      "0 1 2 \n",
      "0 1 2 3 \n"
     ]
    }
   ],
   "source": [
    "for i in range(0,5):\n",
    "    for j in range(0,i): #for(j=0;0<2;j++)\n",
    "        print(j,end=\" \")\n",
    "    print()\n",
    "    "
   ]
  },
  {
   "cell_type": "code",
   "execution_count": 18,
   "id": "e594f6ac",
   "metadata": {},
   "outputs": [
    {
     "name": "stdout",
     "output_type": "stream",
     "text": [
      "4 4 4 4 \n",
      "3 3 3 \n",
      "2 2 \n",
      "1 \n"
     ]
    }
   ],
   "source": [
    "# 4 4 4 4\n",
    "# 3 3 3\n",
    "# 2 2 \n",
    "# 1\n",
    "n=4\n",
    "for i in range(0,n):\n",
    "    for j in range(0,n-i):\n",
    "        print(n-i,end=\" \")\n",
    "    print()"
   ]
  },
  {
   "cell_type": "code",
   "execution_count": 21,
   "id": "74ecf8ff",
   "metadata": {},
   "outputs": [
    {
     "name": "stdout",
     "output_type": "stream",
     "text": [
      "- - - 1 \n",
      "- - 1 2 \n",
      "- 1 2 3 \n",
      "1 2 3 4 \n"
     ]
    }
   ],
   "source": [
    "# ---1\n",
    "# --12\n",
    "# -123\n",
    "# 1234\n",
    "n=4\n",
    "temp=n-1\n",
    "for i in range(1,n+1):\n",
    "    for j in range(temp):\n",
    "        print(\"-\",end=\" \")\n",
    "    for k in range(1,i+1): #for(k=1;k<i+1;k++)\n",
    "        print(k,end=\" \")\n",
    "    temp-=1\n",
    "    print()"
   ]
  },
  {
   "cell_type": "code",
   "execution_count": 28,
   "id": "00751172",
   "metadata": {},
   "outputs": [
    {
     "name": "stdout",
     "output_type": "stream",
     "text": [
      "5 4 3 2 1 \n",
      "4 3 2 1 \n",
      "3 2 1 \n",
      "2 1 \n",
      "1 \n"
     ]
    }
   ],
   "source": [
    "# 4 3 2 1 t=4-0\n",
    "# 3 2 1   t=4-1\n",
    "# 2 1\n",
    "# 1\n",
    "n=5\n",
    "temp=n\n",
    "t=n\n",
    "for i in range(0,n):\n",
    "    t=t-i\n",
    "    for j in range(temp):\n",
    "        print(t,end=\" \")\n",
    "        t-=1\n",
    "    t=n\n",
    "    temp-=1\n",
    "    print()\n",
    "        \n",
    "    "
   ]
  },
  {
   "cell_type": "code",
   "execution_count": null,
   "id": "9d18fd9e",
   "metadata": {},
   "outputs": [],
   "source": [
    "# --3\n",
    "# -23\n",
    "# 123\n",
    "\n",
    "n=3\n",
    "t=n\n",
    "for i in range(n):\n",
    "    for j in range(n-i):\n",
    "        print(\"-\",end=\" \")\n",
    "    for k in range(i+1):\n",
    "        print(t,end=\" \")\n",
    "        t-=1\n",
    "    t"
   ]
  }
 ],
 "metadata": {
  "kernelspec": {
   "display_name": "Python 3 (ipykernel)",
   "language": "python",
   "name": "python3"
  },
  "language_info": {
   "codemirror_mode": {
    "name": "ipython",
    "version": 3
   },
   "file_extension": ".py",
   "mimetype": "text/x-python",
   "name": "python",
   "nbconvert_exporter": "python",
   "pygments_lexer": "ipython3",
   "version": "3.11.5"
  }
 },
 "nbformat": 4,
 "nbformat_minor": 5
}
