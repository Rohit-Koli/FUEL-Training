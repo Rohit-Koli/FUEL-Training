{
 "cells": [
  {
   "cell_type": "code",
   "execution_count": null,
   "id": "158f5e49",
   "metadata": {},
   "outputs": [],
   "source": [
    "#Q1-->write python Key Feature in Python\n",
    "\n",
    "1) Open Source:-\n",
    "2) Dynamic Typed Language\n",
    "3) Interpreted Language\n",
    "4) Easy To Learn\n",
    "5) Platform Independent\n",
    "6) Free to use"
   ]
  },
  {
   "cell_type": "code",
   "execution_count": null,
   "id": "8e2a35c2",
   "metadata": {},
   "outputs": [],
   "source": [
    "#Q2--> Mutable & Immutable Data Types\n",
    "\n",
    "Mutable:- We can change elements after creating varible\n",
    "    etc:-list,dictionary\n",
    "Immutable:- We can't change element after creating varible\n",
    "    etc:-tuple,set,string\n",
    "    \n",
    "    "
   ]
  },
  {
   "cell_type": "code",
   "execution_count": null,
   "id": "cb65d921",
   "metadata": {},
   "outputs": [],
   "source": [
    "#Q3--> Defferent Between Apeend & Extend\n",
    "Append: is used to insert last of the element\n",
    "Extent: extent are used to insert list all elments into another list"
   ]
  },
  {
   "cell_type": "code",
   "execution_count": 3,
   "id": "058dbc10",
   "metadata": {},
   "outputs": [
    {
     "name": "stdout",
     "output_type": "stream",
     "text": [
      "Even: 5 Odd:5\n"
     ]
    }
   ],
   "source": [
    "#Q4---> Count Even and Odd Number and Print\n",
    "\n",
    "li=[1,2,3,4,5,6,7,8,9,10]\n",
    "even=0;\n",
    "odd=0;\n",
    "for i in li:\n",
    "    if(i%2==0):\n",
    "        even+=1\n",
    "    else:\n",
    "        odd+=1\n",
    "print(f\"Even: {even} Odd:{odd}\")"
   ]
  },
  {
   "cell_type": "code",
   "execution_count": 1,
   "id": "a4e696ce",
   "metadata": {},
   "outputs": [
    {
     "name": "stdout",
     "output_type": "stream",
     "text": [
      "10 9 8 7 6 5 4 3 2 1 "
     ]
    }
   ],
   "source": [
    "#Q5--> Reverse the List\n",
    "ks=[1,2,3,4,5,6,7,8,9,10]\n",
    "l=len(ks)\n",
    "for i in range(l,0,-1):\n",
    "    print(i,end=\" \")"
   ]
  },
  {
   "cell_type": "code",
   "execution_count": null,
   "id": "874c13a9",
   "metadata": {},
   "outputs": [],
   "source": [
    "#Q6--> Defference Between Indexing and Slicing\n",
    "\n",
    "Indexing: are used to access particular element of the list,tuple,etc\n",
    "Slicing: are used to access elements in in a range"
   ]
  },
  {
   "cell_type": "code",
   "execution_count": null,
   "id": "12dcdfaf",
   "metadata": {},
   "outputs": [],
   "source": [
    "#Q7--> Explain Operator?Type Of Operator&Group of Operator?\n",
    "\n",
    "Operator:- is a symbol that are used to perform specific \n",
    "            arithmatical and logical operation on an operand\n",
    "Types Of Operator:- Arithmatic,Logical,Betwise,Relational,Assingment\n",
    "type():- it is used to print type of a variable\n",
    "    \n",
    "Group Of Operator:-\n"
   ]
  },
  {
   "cell_type": "code",
   "execution_count": 6,
   "id": "72e82223",
   "metadata": {},
   "outputs": [
    {
     "data": {
      "text/plain": [
       "float"
      ]
     },
     "execution_count": 6,
     "metadata": {},
     "output_type": "execute_result"
    }
   ],
   "source": [
    "#Q9-->what is mlTypes Of ML\n",
    "ML:machine learing is a ability to perform human like task\n",
    "Types:1)Supervised Machine Learing\n",
    "      2)unsupervised Machine Learing\n",
    "      3) Rainforesment ML\n"
   ]
  },
  {
   "cell_type": "code",
   "execution_count": 7,
   "id": "c6bf6523",
   "metadata": {},
   "outputs": [
    {
     "name": "stdout",
     "output_type": "stream",
     "text": [
      "Enter Number Of Term:10\n",
      "0 1 1 2 3 5 8 13 21 34 "
     ]
    }
   ],
   "source": [
    "# Q10--> Fibonacci Series\n",
    "n=int(input(\"Enter Number Of Term:\"))\n",
    "a=0\n",
    "b=1\n",
    "for i in range(n):\n",
    "    print(a,end=\" \")\n",
    "    c=a+b\n",
    "    a=b\n",
    "    b=c"
   ]
  },
  {
   "cell_type": "code",
   "execution_count": 17,
   "id": "3c24acec",
   "metadata": {},
   "outputs": [
    {
     "name": "stdout",
     "output_type": "stream",
     "text": [
      "6 5 4 3 2 1 \n",
      "5 4 3 2 1 \n",
      "4 3 2 1 \n",
      "3 2 1 \n",
      "2 1 \n",
      "1 \n"
     ]
    }
   ],
   "source": [
    "# Q11\n",
    "'''\n",
    "654321\n",
    " 54321\n",
    "  4321\n",
    "   321\n",
    "    21\n",
    "     1\n",
    "'''\n",
    "n=6\n",
    "t=n\n",
    "t2=6\n",
    "for i in range(1,n+1):\n",
    "    for k in range(0,t2):\n",
    "        print(t,end=\" \")\n",
    "        t-=1\n",
    "    t=n-i\n",
    "    t2-=1\n",
    "    print()"
   ]
  },
  {
   "cell_type": "code",
   "execution_count": 22,
   "id": "26b5d2b7",
   "metadata": {},
   "outputs": [
    {
     "name": "stdout",
     "output_type": "stream",
     "text": [
      "not palindrome\n"
     ]
    }
   ],
   "source": [
    "#Q12--> Given String is Palindrome or Not\n",
    "s=\"madas\"\n",
    "k=s[::-1]\n",
    "if(s==k):\n",
    "    print(\"palindrome\")\n",
    "else:\n",
    "    print(\"not palindrome\")"
   ]
  },
  {
   "cell_type": "code",
   "execution_count": 24,
   "id": "591631ed",
   "metadata": {},
   "outputs": [
    {
     "name": "stdout",
     "output_type": "stream",
     "text": [
      "k"
     ]
    }
   ],
   "source": [
    "# Q13--> Remove Vowels From String\n",
    "s=\"aeiouk\"\n",
    "vowel='aeiou'\n",
    "for k in s:\n",
    "    if k not in vowel:\n",
    "        print(k,end=\"\")"
   ]
  },
  {
   "cell_type": "code",
   "execution_count": 26,
   "id": "235d3d3f",
   "metadata": {},
   "outputs": [
    {
     "name": "stdout",
     "output_type": "stream",
     "text": [
      "6\n"
     ]
    }
   ],
   "source": [
    "# Q14--> Count no Of Words in String without using function\n",
    "string=\"thisis\"\n",
    "count=0\n",
    "for i in string:\n",
    "    count+=1\n",
    "print(count)"
   ]
  },
  {
   "cell_type": "code",
   "execution_count": 27,
   "id": "65bd1ec3",
   "metadata": {},
   "outputs": [
    {
     "name": "stdout",
     "output_type": "stream",
     "text": [
      "1 2 3 4 5 \n",
      "2 2 3 4 5 \n",
      "3 3 3 4 5 \n",
      "4 4 4 4 5 \n",
      "5 5 5 5 5 \n"
     ]
    }
   ],
   "source": [
    "# Q15--> \n",
    "n=5\n",
    "\n",
    "for i in range(1,n+1):\n",
    "    for j in range(1,n+1):\n",
    "        if(i>j): #\n",
    "            print(i,end=\" \")\n",
    "        else:\n",
    "            print(j,end=\" \")\n",
    "    print()"
   ]
  },
  {
   "cell_type": "code",
   "execution_count": null,
   "id": "15e015af",
   "metadata": {},
   "outputs": [],
   "source": []
  }
 ],
 "metadata": {
  "kernelspec": {
   "display_name": "Python 3 (ipykernel)",
   "language": "python",
   "name": "python3"
  },
  "language_info": {
   "codemirror_mode": {
    "name": "ipython",
    "version": 3
   },
   "file_extension": ".py",
   "mimetype": "text/x-python",
   "name": "python",
   "nbconvert_exporter": "python",
   "pygments_lexer": "ipython3",
   "version": "3.11.5"
  }
 },
 "nbformat": 4,
 "nbformat_minor": 5
}
